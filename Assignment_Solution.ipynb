{
  "nbformat": 4,
  "nbformat_minor": 0,
  "metadata": {
    "colab": {
      "provenance": [],
      "authorship_tag": "ABX9TyOODyb6GoH9HeGnmoTe2EM8",
      "include_colab_link": true
    },
    "kernelspec": {
      "name": "python3",
      "display_name": "Python 3"
    },
    "language_info": {
      "name": "python"
    }
  },
  "cells": [
    {
      "cell_type": "markdown",
      "metadata": {
        "id": "view-in-github",
        "colab_type": "text"
      },
      "source": [
        "<a href=\"https://colab.research.google.com/github/khan5125/assignments/blob/main/Assignment_Solution.ipynb\" target=\"_parent\"><img src=\"https://colab.research.google.com/assets/colab-badge.svg\" alt=\"Open In Colab\"/></a>"
      ]
    },
    {
      "cell_type": "markdown",
      "source": [
        "# **Assignment**\n",
        "Take Source matrix and create a new matrix with the size of Model matrix, in which each number of the Source matrix will be split into numbers on the corresponding positions and the ratio of the numbers will be same as in the Model matrix. The sum of the cells on the corresponding positions should be equal to the original cell in the Source matrix.\n",
        "\n",
        "For example, a cell AA in the Source matrix (number 5) will be split into 4 values AaAa, AbAa, AaAb and AbAb. The sum of those values will be AA (5) and the ratio between the numbers will according to the ratios in the Model matrix on positions AaAa, AbAa, AaAb and AbAb, e.g. on position AaAb = 5x90/(76 + 3 + 8 + 90).\n",
        "\n",
        "Use Python: Perform some tasks;\n",
        "1. Read the data in,\n",
        "2. Do the transformation and\n",
        "3. Save back to Excel.\n",
        "4. Explain the code in the comments.\n",
        "5. Use an approach which will be suitable for larger matrices.\n",
        "6. You may create some type of a conversion kye in Excel and use that in  your preferred environment.\n",
        "\n",
        "Think about visualization of the results, provide some examples of your suggestions."
      ],
      "metadata": {
        "id": "di11fYfQ0Sc1"
      }
    },
    {
      "cell_type": "markdown",
      "source": [
        "#**Import Libraries**"
      ],
      "metadata": {
        "id": "rodY-e7Q0mK1"
      }
    },
    {
      "cell_type": "code",
      "execution_count": 1,
      "metadata": {
        "id": "r5XWNMT90IS6"
      },
      "outputs": [],
      "source": [
        "import numpy as np\n",
        "import pandas as pd\n",
        "import seaborn as sns\n",
        "import matplotlib.pyplot as plt"
      ]
    },
    {
      "cell_type": "markdown",
      "source": [
        "#**Step 1**\n",
        "**Upload Excel file:** Containing both Source and Model Matrix"
      ],
      "metadata": {
        "id": "_6VzNlEz07jc"
      }
    },
    {
      "cell_type": "code",
      "source": [
        "from google.colab import files\n",
        "uploaded = files.upload()"
      ],
      "metadata": {
        "colab": {
          "base_uri": "https://localhost:8080/",
          "height": 73
        },
        "id": "HIh6ptEy1O2A",
        "outputId": "96b71b63-c721-4b23-955e-b570dc2b487a"
      },
      "execution_count": 2,
      "outputs": [
        {
          "output_type": "display_data",
          "data": {
            "text/plain": [
              "<IPython.core.display.HTML object>"
            ],
            "text/html": [
              "\n",
              "     <input type=\"file\" id=\"files-f7c183c1-ad93-48a1-8902-f754f03f0ec1\" name=\"files[]\" multiple disabled\n",
              "        style=\"border:none\" />\n",
              "     <output id=\"result-f7c183c1-ad93-48a1-8902-f754f03f0ec1\">\n",
              "      Upload widget is only available when the cell has been executed in the\n",
              "      current browser session. Please rerun this cell to enable.\n",
              "      </output>\n",
              "      <script>// Copyright 2017 Google LLC\n",
              "//\n",
              "// Licensed under the Apache License, Version 2.0 (the \"License\");\n",
              "// you may not use this file except in compliance with the License.\n",
              "// You may obtain a copy of the License at\n",
              "//\n",
              "//      http://www.apache.org/licenses/LICENSE-2.0\n",
              "//\n",
              "// Unless required by applicable law or agreed to in writing, software\n",
              "// distributed under the License is distributed on an \"AS IS\" BASIS,\n",
              "// WITHOUT WARRANTIES OR CONDITIONS OF ANY KIND, either express or implied.\n",
              "// See the License for the specific language governing permissions and\n",
              "// limitations under the License.\n",
              "\n",
              "/**\n",
              " * @fileoverview Helpers for google.colab Python module.\n",
              " */\n",
              "(function(scope) {\n",
              "function span(text, styleAttributes = {}) {\n",
              "  const element = document.createElement('span');\n",
              "  element.textContent = text;\n",
              "  for (const key of Object.keys(styleAttributes)) {\n",
              "    element.style[key] = styleAttributes[key];\n",
              "  }\n",
              "  return element;\n",
              "}\n",
              "\n",
              "// Max number of bytes which will be uploaded at a time.\n",
              "const MAX_PAYLOAD_SIZE = 100 * 1024;\n",
              "\n",
              "function _uploadFiles(inputId, outputId) {\n",
              "  const steps = uploadFilesStep(inputId, outputId);\n",
              "  const outputElement = document.getElementById(outputId);\n",
              "  // Cache steps on the outputElement to make it available for the next call\n",
              "  // to uploadFilesContinue from Python.\n",
              "  outputElement.steps = steps;\n",
              "\n",
              "  return _uploadFilesContinue(outputId);\n",
              "}\n",
              "\n",
              "// This is roughly an async generator (not supported in the browser yet),\n",
              "// where there are multiple asynchronous steps and the Python side is going\n",
              "// to poll for completion of each step.\n",
              "// This uses a Promise to block the python side on completion of each step,\n",
              "// then passes the result of the previous step as the input to the next step.\n",
              "function _uploadFilesContinue(outputId) {\n",
              "  const outputElement = document.getElementById(outputId);\n",
              "  const steps = outputElement.steps;\n",
              "\n",
              "  const next = steps.next(outputElement.lastPromiseValue);\n",
              "  return Promise.resolve(next.value.promise).then((value) => {\n",
              "    // Cache the last promise value to make it available to the next\n",
              "    // step of the generator.\n",
              "    outputElement.lastPromiseValue = value;\n",
              "    return next.value.response;\n",
              "  });\n",
              "}\n",
              "\n",
              "/**\n",
              " * Generator function which is called between each async step of the upload\n",
              " * process.\n",
              " * @param {string} inputId Element ID of the input file picker element.\n",
              " * @param {string} outputId Element ID of the output display.\n",
              " * @return {!Iterable<!Object>} Iterable of next steps.\n",
              " */\n",
              "function* uploadFilesStep(inputId, outputId) {\n",
              "  const inputElement = document.getElementById(inputId);\n",
              "  inputElement.disabled = false;\n",
              "\n",
              "  const outputElement = document.getElementById(outputId);\n",
              "  outputElement.innerHTML = '';\n",
              "\n",
              "  const pickedPromise = new Promise((resolve) => {\n",
              "    inputElement.addEventListener('change', (e) => {\n",
              "      resolve(e.target.files);\n",
              "    });\n",
              "  });\n",
              "\n",
              "  const cancel = document.createElement('button');\n",
              "  inputElement.parentElement.appendChild(cancel);\n",
              "  cancel.textContent = 'Cancel upload';\n",
              "  const cancelPromise = new Promise((resolve) => {\n",
              "    cancel.onclick = () => {\n",
              "      resolve(null);\n",
              "    };\n",
              "  });\n",
              "\n",
              "  // Wait for the user to pick the files.\n",
              "  const files = yield {\n",
              "    promise: Promise.race([pickedPromise, cancelPromise]),\n",
              "    response: {\n",
              "      action: 'starting',\n",
              "    }\n",
              "  };\n",
              "\n",
              "  cancel.remove();\n",
              "\n",
              "  // Disable the input element since further picks are not allowed.\n",
              "  inputElement.disabled = true;\n",
              "\n",
              "  if (!files) {\n",
              "    return {\n",
              "      response: {\n",
              "        action: 'complete',\n",
              "      }\n",
              "    };\n",
              "  }\n",
              "\n",
              "  for (const file of files) {\n",
              "    const li = document.createElement('li');\n",
              "    li.append(span(file.name, {fontWeight: 'bold'}));\n",
              "    li.append(span(\n",
              "        `(${file.type || 'n/a'}) - ${file.size} bytes, ` +\n",
              "        `last modified: ${\n",
              "            file.lastModifiedDate ? file.lastModifiedDate.toLocaleDateString() :\n",
              "                                    'n/a'} - `));\n",
              "    const percent = span('0% done');\n",
              "    li.appendChild(percent);\n",
              "\n",
              "    outputElement.appendChild(li);\n",
              "\n",
              "    const fileDataPromise = new Promise((resolve) => {\n",
              "      const reader = new FileReader();\n",
              "      reader.onload = (e) => {\n",
              "        resolve(e.target.result);\n",
              "      };\n",
              "      reader.readAsArrayBuffer(file);\n",
              "    });\n",
              "    // Wait for the data to be ready.\n",
              "    let fileData = yield {\n",
              "      promise: fileDataPromise,\n",
              "      response: {\n",
              "        action: 'continue',\n",
              "      }\n",
              "    };\n",
              "\n",
              "    // Use a chunked sending to avoid message size limits. See b/62115660.\n",
              "    let position = 0;\n",
              "    do {\n",
              "      const length = Math.min(fileData.byteLength - position, MAX_PAYLOAD_SIZE);\n",
              "      const chunk = new Uint8Array(fileData, position, length);\n",
              "      position += length;\n",
              "\n",
              "      const base64 = btoa(String.fromCharCode.apply(null, chunk));\n",
              "      yield {\n",
              "        response: {\n",
              "          action: 'append',\n",
              "          file: file.name,\n",
              "          data: base64,\n",
              "        },\n",
              "      };\n",
              "\n",
              "      let percentDone = fileData.byteLength === 0 ?\n",
              "          100 :\n",
              "          Math.round((position / fileData.byteLength) * 100);\n",
              "      percent.textContent = `${percentDone}% done`;\n",
              "\n",
              "    } while (position < fileData.byteLength);\n",
              "  }\n",
              "\n",
              "  // All done.\n",
              "  yield {\n",
              "    response: {\n",
              "      action: 'complete',\n",
              "    }\n",
              "  };\n",
              "}\n",
              "\n",
              "scope.google = scope.google || {};\n",
              "scope.google.colab = scope.google.colab || {};\n",
              "scope.google.colab._files = {\n",
              "  _uploadFiles,\n",
              "  _uploadFilesContinue,\n",
              "};\n",
              "})(self);\n",
              "</script> "
            ]
          },
          "metadata": {}
        },
        {
          "output_type": "stream",
          "name": "stdout",
          "text": [
            "Saving Assignment.xlsx to Assignment.xlsx\n"
          ]
        }
      ]
    },
    {
      "cell_type": "markdown",
      "source": [
        "# **Step 2:**\n",
        "### Read Source Marix and Model Matrix"
      ],
      "metadata": {
        "id": "hbLyIPgJ1Y7O"
      }
    },
    {
      "cell_type": "code",
      "source": [
        "# Read both sheets into separate dataframes\n",
        "source_matrix = pd.read_excel('Assignment.xlsx', sheet_name = 'smatrix')\n",
        "model_matrix = pd.read_excel('Assignment.xlsx', sheet_name = 'mmatrix')\n",
        "\n",
        "print(\"smatrix:\")\n",
        "print(source_matrix.head(10))\n",
        "print(\"\\mmatrix:\")\n",
        "print(model_matrix.head(10))"
      ],
      "metadata": {
        "colab": {
          "base_uri": "https://localhost:8080/"
        },
        "id": "ZUGjVMGY15ug",
        "outputId": "d95aac96-775a-489c-abc9-7204713ee2f2"
      },
      "execution_count": 5,
      "outputs": [
        {
          "output_type": "stream",
          "name": "stdout",
          "text": [
            "smatrix:\n",
            "  Matrix Source   A   B   C   D\n",
            "0             A   5  32  12  54\n",
            "1             B   2  12  23  32\n",
            "2             C  45   3   0  34\n",
            "3             D  87  57  34  78\n",
            "\\mmatrix:\n",
            "  Matrix Model  Aa  Ab  Ba  Bb  Bc   C  Da  Dd\n",
            "0           Aa  76  90  87   3  74  24  12   1\n",
            "1           Ab   3   8  23   4  12  17  32   9\n",
            "2           Ba   4   9  12   1  10  32   1   7\n",
            "3           Bb  21  45  97   9   0  21   9   6\n",
            "4           Bc  32   1  95   7   4   3   7   8\n",
            "5            C   1   3  83   6  19   8   6  32\n",
            "6           Da   2   5  74   8  18   4   8  34\n",
            "7           Dd   4   0  64  12  26   1  34  78\n"
          ]
        }
      ]
    },
    {
      "cell_type": "markdown",
      "source": [
        "#**Step 3**\n",
        "## A. Normalize the model matrix\n",
        "## B. Transform the source matrix"
      ],
      "metadata": {
        "id": "qUn7FUJq29VF"
      }
    },
    {
      "cell_type": "code",
      "source": [
        "# Step 2 and 3\n",
        "def scale_matrix(source_value, model_matrix):\n",
        "\n",
        "    model_sum = np.sum(model_matrix)\n",
        "\n",
        "    # Normalize the model matrix\n",
        "    normalized_model = model_matrix / model_sum\n",
        "\n",
        "    # Transform the source matrix\n",
        "    scaled_values = source_value * normalized_model\n",
        "    return scaled_values\n",
        "\n",
        "# Example usage with different matrices\n",
        "source_values = [5, 2, 45, 87, 32, 12, 3, 57, 12, 23, 0, 34, 54, 32, 34, 78]\n",
        "model_matrices = [\n",
        "    np.array([76, 3, 8, 90]),\n",
        "    np.array([4, 21, 32, 1, 45, 9]),\n",
        "    np.array([1, 3]),\n",
        "    np.array([2, 4, 0, 5]),\n",
        "    np.array([87, 3, 74, 23, 4, 12]),\n",
        "    np.array([12, 1, 10, 97, 9, 0, 95, 7, 4]),\n",
        "    np.array([83, 6, 19]),\n",
        "    np.array([74, 8, 18, 64, 12, 26]),\n",
        "    np.array([24, 17]),\n",
        "    np.array([32, 21, 3]),\n",
        "    np.array([8]),\n",
        "    np.array([4, 1]),\n",
        "    np.array([12, 32, 9, 1]),\n",
        "    np.array([1, 9, 7, 8, 6, 7]),\n",
        "    np.array([6, 32]),\n",
        "    np.array([8, 34, 78, 34]),\n",
        "]\n",
        "\n",
        "for i in range(len(source_values)):\n",
        "    scaled_values = scale_matrix(source_values[i], model_matrices[i])\n",
        "    print(f\"Source Value: {source_values[i]}\")\n",
        "    print(\"Result Matrix:\", scaled_values)\n",
        "    print(\"Sum of Scaled Values:\", np.sum(scaled_values))\n",
        "    print(\"-\" * 30)\n",
        "\n",
        "\n"
      ],
      "metadata": {
        "colab": {
          "base_uri": "https://localhost:8080/"
        },
        "id": "P_qjhsfm3F9r",
        "outputId": "5035a804-a07b-49a2-92a2-81a9acc34b1b"
      },
      "execution_count": 6,
      "outputs": [
        {
          "output_type": "stream",
          "name": "stdout",
          "text": [
            "Source Value: 5\n",
            "Result Matrix: [2.14689266 0.08474576 0.2259887  2.54237288]\n",
            "Sum of Scaled Values: 5.0\n",
            "------------------------------\n",
            "Source Value: 2\n",
            "Result Matrix: [0.07142857 0.375      0.57142857 0.01785714 0.80357143 0.16071429]\n",
            "Sum of Scaled Values: 2.0\n",
            "------------------------------\n",
            "Source Value: 45\n",
            "Result Matrix: [11.25 33.75]\n",
            "Sum of Scaled Values: 45.0\n",
            "------------------------------\n",
            "Source Value: 87\n",
            "Result Matrix: [15.81818182 31.63636364  0.         39.54545455]\n",
            "Sum of Scaled Values: 87.0\n",
            "------------------------------\n",
            "Source Value: 32\n",
            "Result Matrix: [13.71428571  0.4729064  11.66502463  3.62561576  0.63054187  1.89162562]\n",
            "Sum of Scaled Values: 31.999999999999996\n",
            "------------------------------\n",
            "Source Value: 12\n",
            "Result Matrix: [0.61276596 0.05106383 0.5106383  4.95319149 0.45957447 0.\n",
            " 4.85106383 0.35744681 0.20425532]\n",
            "Sum of Scaled Values: 11.999999999999998\n",
            "------------------------------\n",
            "Source Value: 3\n",
            "Result Matrix: [2.30555556 0.16666667 0.52777778]\n",
            "Sum of Scaled Values: 2.9999999999999996\n",
            "------------------------------\n",
            "Source Value: 57\n",
            "Result Matrix: [20.88118812  2.25742574  5.07920792 18.05940594  3.38613861  7.33663366]\n",
            "Sum of Scaled Values: 57.0\n",
            "------------------------------\n",
            "Source Value: 12\n",
            "Result Matrix: [7.02439024 4.97560976]\n",
            "Sum of Scaled Values: 12.0\n",
            "------------------------------\n",
            "Source Value: 23\n",
            "Result Matrix: [13.14285714  8.625       1.23214286]\n",
            "Sum of Scaled Values: 23.0\n",
            "------------------------------\n",
            "Source Value: 0\n",
            "Result Matrix: [0.]\n",
            "Sum of Scaled Values: 0.0\n",
            "------------------------------\n",
            "Source Value: 34\n",
            "Result Matrix: [27.2  6.8]\n",
            "Sum of Scaled Values: 34.0\n",
            "------------------------------\n",
            "Source Value: 54\n",
            "Result Matrix: [12. 32.  9.  1.]\n",
            "Sum of Scaled Values: 54.0\n",
            "------------------------------\n",
            "Source Value: 32\n",
            "Result Matrix: [0.84210526 7.57894737 5.89473684 6.73684211 5.05263158 5.89473684]\n",
            "Sum of Scaled Values: 31.999999999999996\n",
            "------------------------------\n",
            "Source Value: 34\n",
            "Result Matrix: [ 5.36842105 28.63157895]\n",
            "Sum of Scaled Values: 34.0\n",
            "------------------------------\n",
            "Source Value: 78\n",
            "Result Matrix: [ 4.05194805 17.22077922 39.50649351 17.22077922]\n",
            "Sum of Scaled Values: 78.0\n",
            "------------------------------\n"
          ]
        }
      ]
    },
    {
      "cell_type": "markdown",
      "source": [
        "# **Step 4**\n",
        "## Visualization in different way's"
      ],
      "metadata": {
        "id": "QwoVWic54qcK"
      }
    },
    {
      "cell_type": "code",
      "source": [
        "# Assuming 'scaled_values' is a list of NumPy arrays from the previous loop\n",
        "\n",
        "all_scaled_values = []\n",
        "for i in range(len(source_values)):\n",
        "    scaled_values = scale_matrix(source_values[i], model_matrices[i])\n",
        "    all_scaled_values.append(scaled_values)\n",
        "\n",
        "# Pad the arrays with NaNs to make them the same length\n",
        "max_len = max(len(arr) for arr in all_scaled_values)\n",
        "padded_values = [np.pad(arr, (0, max_len - len(arr)), 'constant', constant_values=np.nan)\n",
        "                  for arr in all_scaled_values]\n",
        "\n",
        "# Create a heatmap\n",
        "plt.figure(figsize=(10, 6))\n",
        "sns.heatmap(np.array(padded_values), annot=True, cmap=\"viridis\", fmt=\".2f\")\n",
        "plt.title(\"Heatmap of Scaled Values\")\n",
        "plt.xlabel(\"Model Matrix Index\")\n",
        "plt.ylabel(\"Source Value Index\")\n",
        "plt.show()"
      ],
      "metadata": {
        "colab": {
          "base_uri": "https://localhost:8080/",
          "height": 564
        },
        "id": "RU344YQu43Rf",
        "outputId": "9f3091c0-0d05-4477-d198-b3922b2c74b9"
      },
      "execution_count": 8,
      "outputs": [
        {
          "output_type": "display_data",
          "data": {
            "text/plain": [
              "<Figure size 1000x600 with 2 Axes>"
            ],
            "image/png": "[encoded data removed]"
          },
          "metadata": {}
        }
      ]
    },
    {
      "cell_type": "markdown",
      "source": [
        "# **Step 5**\n",
        "## To save excel file"
      ],
      "metadata": {
        "id": "jsdUOus253wa"
      }
    },
    {
      "cell_type": "code",
      "source": [
        "# Create a DataFrame from the results matrix\n",
        "results_df = pd.DataFrame(np.array(padded_values))\n",
        "\n",
        "# Export the DataFrame to an Excel file\n",
        "results_df.to_excel('results_matrix.xlsx', index=False)\n",
        "\n",
        "# Download the Excel file\n",
        "files.download('results_matrix.xlsx')"
      ],
      "metadata": {
        "colab": {
          "base_uri": "https://localhost:8080/",
          "height": 17
        },
        "id": "RVxqyo8a6Sfn",
        "outputId": "4b1f2c25-20a0-4616-ef8a-bd640b25e6c9"
      },
      "execution_count": 11,
      "outputs": [
        {
          "output_type": "display_data",
          "data": {
            "text/plain": [
              "<IPython.core.display.Javascript object>"
            ],
            "application/javascript": [
              "\n",
              "    async function download(id, filename, size) {\n",
              "      if (!google.colab.kernel.accessAllowed) {\n",
              "        return;\n",
              "      }\n",
              "      const div = document.createElement('div');\n",
              "      const label = document.createElement('label');\n",
              "      label.textContent = `Downloading \"${filename}\": `;\n",
              "      div.appendChild(label);\n",
              "      const progress = document.createElement('progress');\n",
              "      progress.max = size;\n",
              "      div.appendChild(progress);\n",
              "      document.body.appendChild(div);\n",
              "\n",
              "      const buffers = [];\n",
              "      let downloaded = 0;\n",
              "\n",
              "      const channel = await google.colab.kernel.comms.open(id);\n",
              "      // Send a message to notify the kernel that we're ready.\n",
              "      channel.send({})\n",
              "\n",
              "      for await (const message of channel.messages) {\n",
              "        // Send a message to notify the kernel that we're ready.\n",
              "        channel.send({})\n",
              "        if (message.buffers) {\n",
              "          for (const buffer of message.buffers) {\n",
              "            buffers.push(buffer);\n",
              "            downloaded += buffer.byteLength;\n",
              "            progress.value = downloaded;\n",
              "          }\n",
              "        }\n",
              "      }\n",
              "      const blob = new Blob(buffers, {type: 'application/binary'});\n",
              "      const a = document.createElement('a');\n",
              "      a.href = window.URL.createObjectURL(blob);\n",
              "      a.download = filename;\n",
              "      div.appendChild(a);\n",
              "      a.click();\n",
              "      div.remove();\n",
              "    }\n",
              "  "
            ]
          },
          "metadata": {}
        },
        {
          "output_type": "display_data",
          "data": {
            "text/plain": [
              "<IPython.core.display.Javascript object>"
            ],
            "application/javascript": [
              "download(\"download_561ee489-6ce9-424a-a574-931e6301270c\", \"results_matrix.xlsx\", 5862)"
            ]
          },
          "metadata": {}
        }
      ]
    }
  ]
}