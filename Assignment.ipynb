{
  "nbformat": 4,
  "nbformat_minor": 0,
  "metadata": {
    "colab": {
      "provenance": [],
      "collapsed_sections": [
        "0oFD2_I6OVbv"
      ],
      "authorship_tag": "ABX9TyNWTIEGOg/aNgJU08PaLDFm",
      "include_colab_link": true
    },
    "kernelspec": {
      "name": "python3",
      "display_name": "Python 3"
    },
    "language_info": {
      "name": "python"
    }
  },
  "cells": [
    {
      "cell_type": "markdown",
      "metadata": {
        "id": "view-in-github",
        "colab_type": "text"
      },
      "source": [
        "<a href=\"https://colab.research.google.com/github/khan5125/assignments/blob/main/Assignment.ipynb\" target=\"_parent\"><img src=\"https://colab.research.google.com/assets/colab-badge.svg\" alt=\"Open In Colab\"/></a>"
      ]
    },
    {
      "cell_type": "code",
      "execution_count": 2,
      "metadata": {
        "id": "uh_xvO6eSVnd"
      },
      "outputs": [],
      "source": [
        "import numpy as np\n",
        "import pandas as pd\n",
        "import seaborn as sns\n",
        "import matplotlib.pyplot as plt"
      ]
    },
    {
      "cell_type": "code",
      "source": [
        "from google.colab import files\n",
        "uploaded = files.upload()"
      ],
      "metadata": {
        "colab": {
          "base_uri": "https://localhost:8080/",
          "height": 73
        },
        "id": "IgH0f3fSSjrU",
        "outputId": "26445c51-a9c4-43cb-b7a4-5bd1c030c128"
      },
      "execution_count": 3,
      "outputs": [
        {
          "output_type": "display_data",
          "data": {
            "text/plain": [
              "<IPython.core.display.HTML object>"
            ],
            "text/html": [
              "\n",
              "     <input type=\"file\" id=\"files-a5cb057f-a8f4-4b0a-9084-ff79892755c5\" name=\"files[]\" multiple disabled\n",
              "        style=\"border:none\" />\n",
              "     <output id=\"result-a5cb057f-a8f4-4b0a-9084-ff79892755c5\">\n",
              "      Upload widget is only available when the cell has been executed in the\n",
              "      current browser session. Please rerun this cell to enable.\n",
              "      </output>\n",
              "      <script>// Copyright 2017 Google LLC\n",
              "//\n",
              "// Licensed under the Apache License, Version 2.0 (the \"License\");\n",
              "// you may not use this file except in compliance with the License.\n",
              "// You may obtain a copy of the License at\n",
              "//\n",
              "//      http://www.apache.org/licenses/LICENSE-2.0\n",
              "//\n",
              "// Unless required by applicable law or agreed to in writing, software\n",
              "// distributed under the License is distributed on an \"AS IS\" BASIS,\n",
              "// WITHOUT WARRANTIES OR CONDITIONS OF ANY KIND, either express or implied.\n",
              "// See the License for the specific language governing permissions and\n",
              "// limitations under the License.\n",
              "\n",
              "/**\n",
              " * @fileoverview Helpers for google.colab Python module.\n",
              " */\n",
              "(function(scope) {\n",
              "function span(text, styleAttributes = {}) {\n",
              "  const element = document.createElement('span');\n",
              "  element.textContent = text;\n",
              "  for (const key of Object.keys(styleAttributes)) {\n",
              "    element.style[key] = styleAttributes[key];\n",
              "  }\n",
              "  return element;\n",
              "}\n",
              "\n",
              "// Max number of bytes which will be uploaded at a time.\n",
              "const MAX_PAYLOAD_SIZE = 100 * 1024;\n",
              "\n",
              "function _uploadFiles(inputId, outputId) {\n",
              "  const steps = uploadFilesStep(inputId, outputId);\n",
              "  const outputElement = document.getElementById(outputId);\n",
              "  // Cache steps on the outputElement to make it available for the next call\n",
              "  // to uploadFilesContinue from Python.\n",
              "  outputElement.steps = steps;\n",
              "\n",
              "  return _uploadFilesContinue(outputId);\n",
              "}\n",
              "\n",
              "// This is roughly an async generator (not supported in the browser yet),\n",
              "// where there are multiple asynchronous steps and the Python side is going\n",
              "// to poll for completion of each step.\n",
              "// This uses a Promise to block the python side on completion of each step,\n",
              "// then passes the result of the previous step as the input to the next step.\n",
              "function _uploadFilesContinue(outputId) {\n",
              "  const outputElement = document.getElementById(outputId);\n",
              "  const steps = outputElement.steps;\n",
              "\n",
              "  const next = steps.next(outputElement.lastPromiseValue);\n",
              "  return Promise.resolve(next.value.promise).then((value) => {\n",
              "    // Cache the last promise value to make it available to the next\n",
              "    // step of the generator.\n",
              "    outputElement.lastPromiseValue = value;\n",
              "    return next.value.response;\n",
              "  });\n",
              "}\n",
              "\n",
              "/**\n",
              " * Generator function which is called between each async step of the upload\n",
              " * process.\n",
              " * @param {string} inputId Element ID of the input file picker element.\n",
              " * @param {string} outputId Element ID of the output display.\n",
              " * @return {!Iterable<!Object>} Iterable of next steps.\n",
              " */\n",
              "function* uploadFilesStep(inputId, outputId) {\n",
              "  const inputElement = document.getElementById(inputId);\n",
              "  inputElement.disabled = false;\n",
              "\n",
              "  const outputElement = document.getElementById(outputId);\n",
              "  outputElement.innerHTML = '';\n",
              "\n",
              "  const pickedPromise = new Promise((resolve) => {\n",
              "    inputElement.addEventListener('change', (e) => {\n",
              "      resolve(e.target.files);\n",
              "    });\n",
              "  });\n",
              "\n",
              "  const cancel = document.createElement('button');\n",
              "  inputElement.parentElement.appendChild(cancel);\n",
              "  cancel.textContent = 'Cancel upload';\n",
              "  const cancelPromise = new Promise((resolve) => {\n",
              "    cancel.onclick = () => {\n",
              "      resolve(null);\n",
              "    };\n",
              "  });\n",
              "\n",
              "  // Wait for the user to pick the files.\n",
              "  const files = yield {\n",
              "    promise: Promise.race([pickedPromise, cancelPromise]),\n",
              "    response: {\n",
              "      action: 'starting',\n",
              "    }\n",
              "  };\n",
              "\n",
              "  cancel.remove();\n",
              "\n",
              "  // Disable the input element since further picks are not allowed.\n",
              "  inputElement.disabled = true;\n",
              "\n",
              "  if (!files) {\n",
              "    return {\n",
              "      response: {\n",
              "        action: 'complete',\n",
              "      }\n",
              "    };\n",
              "  }\n",
              "\n",
              "  for (const file of files) {\n",
              "    const li = document.createElement('li');\n",
              "    li.append(span(file.name, {fontWeight: 'bold'}));\n",
              "    li.append(span(\n",
              "        `(${file.type || 'n/a'}) - ${file.size} bytes, ` +\n",
              "        `last modified: ${\n",
              "            file.lastModifiedDate ? file.lastModifiedDate.toLocaleDateString() :\n",
              "                                    'n/a'} - `));\n",
              "    const percent = span('0% done');\n",
              "    li.appendChild(percent);\n",
              "\n",
              "    outputElement.appendChild(li);\n",
              "\n",
              "    const fileDataPromise = new Promise((resolve) => {\n",
              "      const reader = new FileReader();\n",
              "      reader.onload = (e) => {\n",
              "        resolve(e.target.result);\n",
              "      };\n",
              "      reader.readAsArrayBuffer(file);\n",
              "    });\n",
              "    // Wait for the data to be ready.\n",
              "    let fileData = yield {\n",
              "      promise: fileDataPromise,\n",
              "      response: {\n",
              "        action: 'continue',\n",
              "      }\n",
              "    };\n",
              "\n",
              "    // Use a chunked sending to avoid message size limits. See b/62115660.\n",
              "    let position = 0;\n",
              "    do {\n",
              "      const length = Math.min(fileData.byteLength - position, MAX_PAYLOAD_SIZE);\n",
              "      const chunk = new Uint8Array(fileData, position, length);\n",
              "      position += length;\n",
              "\n",
              "      const base64 = btoa(String.fromCharCode.apply(null, chunk));\n",
              "      yield {\n",
              "        response: {\n",
              "          action: 'append',\n",
              "          file: file.name,\n",
              "          data: base64,\n",
              "        },\n",
              "      };\n",
              "\n",
              "      let percentDone = fileData.byteLength === 0 ?\n",
              "          100 :\n",
              "          Math.round((position / fileData.byteLength) * 100);\n",
              "      percent.textContent = `${percentDone}% done`;\n",
              "\n",
              "    } while (position < fileData.byteLength);\n",
              "  }\n",
              "\n",
              "  // All done.\n",
              "  yield {\n",
              "    response: {\n",
              "      action: 'complete',\n",
              "    }\n",
              "  };\n",
              "}\n",
              "\n",
              "scope.google = scope.google || {};\n",
              "scope.google.colab = scope.google.colab || {};\n",
              "scope.google.colab._files = {\n",
              "  _uploadFiles,\n",
              "  _uploadFilesContinue,\n",
              "};\n",
              "})(self);\n",
              "</script> "
            ]
          },
          "metadata": {}
        },
        {
          "output_type": "stream",
          "name": "stdout",
          "text": [
            "Saving Assignment.xlsx to Assignment.xlsx\n"
          ]
        }
      ]
    },
    {
      "cell_type": "code",
      "source": [
        "df = pd.read_excel('Assignment.xlsx')"
      ],
      "metadata": {
        "id": "Y4wyGGz2SupK"
      },
      "execution_count": 4,
      "outputs": []
    },
    {
      "cell_type": "code",
      "source": [
        "source_matrix = 'smatrix'\n",
        "model_matrix = 'mmatrix'"
      ],
      "metadata": {
        "id": "_KYijz45Uc9F"
      },
      "execution_count": 11,
      "outputs": []
    },
    {
      "cell_type": "code",
      "source": [
        "# Read both sheets into separate dataframes\n",
        "df1 = pd.read_excel('Assignment.xlsx', sheet_name = 'smatrix')\n",
        "df2 = pd.read_excel('Assignment.xlsx', sheet_name = 'mmatrix')\n",
        "\n",
        "print(\"smatrix:\")\n",
        "print(df1.head())\n",
        "print(\"\\mmatrix:\")\n",
        "print(df2.head())"
      ],
      "metadata": {
        "colab": {
          "base_uri": "https://localhost:8080/"
        },
        "id": "JrZYBocvTm5g",
        "outputId": "dfac4323-9c26-4ee2-b3f4-2a319c23985a"
      },
      "execution_count": 12,
      "outputs": [
        {
          "output_type": "stream",
          "name": "stdout",
          "text": [
            "smatrix:\n",
            "  Matrix Source   A   B   C   D\n",
            "0             A   5  32  12  54\n",
            "1             B   2  12  23  32\n",
            "2             C  45   3   0  34\n",
            "3             D  87  57  34  78\n",
            "\\mmatrix:\n",
            "  Matrix Model  Aa  Ab  Ba  Bb  Bc   C  Da  Dd\n",
            "0           Aa  76  90  87   3  74  24  12   1\n",
            "1           Ab   3   8  23   4  12  17  32   9\n",
            "2           Ba   4   9  12   1  10  32   1   7\n",
            "3           Bb  21  45  97   9   0  21   9   6\n",
            "4           Bc  32   1  95   7   4   3   7   8\n"
          ]
        }
      ]
    },
    {
      "cell_type": "markdown",
      "source": [
        "# we can perfrom one by one"
      ],
      "metadata": {
        "id": "0oFD2_I6OVbv"
      }
    },
    {
      "cell_type": "code",
      "source": [
        "# Define the Source Matrix and Model Matrix\n",
        "source_value = 5  # Single value from the Source Matrix\n",
        "mmatrix = np.array([76, 3, 8, 90])  # Corresponding Model Matrix values\n",
        "\n",
        "# Step 1: Normalize the Model Matrix\n",
        "model_sum = np.sum(mmatrix)  # Total sum of the Model Matrix\n",
        "normalized_model = mmatrix / model_sum  # Calculate the ratios (weights)\n",
        "\n",
        "# Step 2: Scale the Source Value\n",
        "scaled_values = source_value * normalized_model  # Distribute the source value\n",
        "\n",
        "print(\"Model Matrix Ratios:\", normalized_model)\n",
        "print(\"Scaled Values:\", scaled_values)\n",
        "\n",
        "# Calculate the sum of the scaled values\n",
        "sum_scaled_values = np.sum(scaled_values)\n",
        "\n",
        "print(\"Sum of Scaled Values:\", sum_scaled_values)"
      ],
      "metadata": {
        "colab": {
          "base_uri": "https://localhost:8080/"
        },
        "id": "jIJ7yFUFvKFF",
        "outputId": "1d4bc0f1-a970-4f05-9d9f-08fe2f90d455"
      },
      "execution_count": 20,
      "outputs": [
        {
          "output_type": "stream",
          "name": "stdout",
          "text": [
            "Model Matrix Ratios: [0.42937853 0.01694915 0.04519774 0.50847458]\n",
            "Scaled Values: [2.14689266 0.08474576 0.2259887  2.54237288]\n",
            "Sum of Scaled Values: 5.0\n"
          ]
        }
      ]
    },
    {
      "cell_type": "code",
      "source": [
        "# Define the Source Matrix and Model Matrix\n",
        "source_value = 2  # Single value from the Source Matrix\n",
        "mmatrix = np.array([4, 21, 32, 1, 45, 9])  # Corresponding Model Matrix values\n",
        "\n",
        "# Step 1: Normalize the Model Matrix\n",
        "model_sum = np.sum(mmatrix)  # Total sum of the Model Matrix\n",
        "normalized_model = mmatrix / model_sum  # Calculate the ratios (weights)\n",
        "\n",
        "# Step 2: Scale the Source Value\n",
        "scaled_values = source_value * normalized_model  # Distribute the source value\n",
        "\n",
        "print(\"Model Matrix Ratios:\", normalized_model)\n",
        "print(\"Scaled Values:\", scaled_values)\n",
        "\n",
        "# Calculate the sum of the scaled values\n",
        "sum_scaled_values = np.sum(scaled_values)\n",
        "\n",
        "print(\"Sum of Scaled Values:\", sum_scaled_values)"
      ],
      "metadata": {
        "colab": {
          "base_uri": "https://localhost:8080/"
        },
        "id": "c7O-KmRUBSUv",
        "outputId": "da3f7303-90bf-4a04-80fc-b43c4fbfadbb"
      },
      "execution_count": 21,
      "outputs": [
        {
          "output_type": "stream",
          "name": "stdout",
          "text": [
            "Model Matrix Ratios: [0.03571429 0.1875     0.28571429 0.00892857 0.40178571 0.08035714]\n",
            "Scaled Values: [0.07142857 0.375      0.57142857 0.01785714 0.80357143 0.16071429]\n",
            "Sum of Scaled Values: 2.0\n"
          ]
        }
      ]
    },
    {
      "cell_type": "code",
      "source": [
        "# Define the Source Matrix and Model Matrix\n",
        "source_value = 45  # Single value from the Source Matrix\n",
        "mmatrix = np.array([1, 3])  # Corresponding Model Matrix values\n",
        "\n",
        "# Step 1: Normalize the Model Matrix\n",
        "model_sum = np.sum(mmatrix)  # Total sum of the Model Matrix\n",
        "normalized_model = mmatrix / model_sum  # Calculate the ratios (weights)\n",
        "\n",
        "# Step 2: Scale the Source Value\n",
        "scaled_values = source_value * normalized_model  # Distribute the source value\n",
        "\n",
        "print(\"Model Matrix Ratios:\", normalized_model)\n",
        "print(\"Scaled Values:\", scaled_values)\n",
        "\n",
        "# Calculate the sum of the scaled values\n",
        "sum_scaled_values = np.sum(scaled_values)\n",
        "\n",
        "print(\"Sum of Scaled Values:\", sum_scaled_values)"
      ],
      "metadata": {
        "colab": {
          "base_uri": "https://localhost:8080/"
        },
        "id": "law0rsLMEmAj",
        "outputId": "9e0e2e96-29fe-4e51-d0ae-adb50364ffdd"
      },
      "execution_count": 22,
      "outputs": [
        {
          "output_type": "stream",
          "name": "stdout",
          "text": [
            "Model Matrix Ratios: [0.25 0.75]\n",
            "Scaled Values: [11.25 33.75]\n",
            "Sum of Scaled Values: 45.0\n"
          ]
        }
      ]
    },
    {
      "cell_type": "code",
      "source": [
        "# Define the Source Matrix and Model Matrix\n",
        "source_value = 87  # Single value from the Source Matrix\n",
        "mmatrix = np.array([2, 4, 0, 5])  # Corresponding Model Matrix values\n",
        "\n",
        "# Step 1: Normalize the Model Matrix\n",
        "model_sum = np.sum(mmatrix)  # Total sum of the Model Matrix\n",
        "normalized_model = mmatrix / model_sum  # Calculate the ratios (weights)\n",
        "\n",
        "# Step 2: Scale the Source Value\n",
        "scaled_values = source_value * normalized_model  # Distribute the source value\n",
        "\n",
        "print(\"Model Matrix Ratios:\", normalized_model)\n",
        "print(\"Scaled Values:\", scaled_values)\n",
        "\n",
        "# Calculate the sum of the scaled values\n",
        "sum_scaled_values = np.sum(scaled_values)\n",
        "\n",
        "print(\"Sum of Scaled Values:\", sum_scaled_values)"
      ],
      "metadata": {
        "colab": {
          "base_uri": "https://localhost:8080/"
        },
        "id": "fwklYMgqE971",
        "outputId": "d97095e4-19dc-40b6-c00f-e37653720ff7"
      },
      "execution_count": 19,
      "outputs": [
        {
          "output_type": "stream",
          "name": "stdout",
          "text": [
            "Model Matrix Ratios: [0.18181818 0.36363636 0.         0.45454545]\n",
            "Scaled Values: [15.81818182 31.63636364  0.         39.54545455]\n",
            "Sum of Scaled Values: 87.0\n"
          ]
        }
      ]
    },
    {
      "cell_type": "code",
      "source": [
        "# Define the Source Matrix and Model Matrix\n",
        "source_value = 32  # Single value from the Source Matrix\n",
        "\n",
        "# Corresponding Model Matrix values\n",
        "matrix = np.array([[87, 3, 74],\n",
        "                   [23, 4, 12]])\n",
        "\n",
        "# Step 1: Normalize the Model Matrix\n",
        "model_sum = np.sum(mmatrix)  # Total sum of the Model Matrix\n",
        "normalized_model = mmatrix / model_sum  # Calculate the ratios (weights)\n",
        "\n",
        "# Step 2: Scale the Source Value\n",
        "scaled_values = source_value * normalized_model  # Distribute the source value\n",
        "\n",
        "print(\"Model Matrix Ratios:\", normalized_model)\n",
        "print(\"Scaled Values:\", scaled_values)\n",
        "\n",
        "# Calculate the sum of the scaled values\n",
        "sum_scaled_values = np.sum(scaled_values)\n",
        "\n",
        "print(\"Sum of Scaled Values:\", sum_scaled_values)"
      ],
      "metadata": {
        "colab": {
          "base_uri": "https://localhost:8080/"
        },
        "id": "W43uDi0WFib1",
        "outputId": "28207f90-c892-4bdf-8286-cddfe997c892"
      },
      "execution_count": 25,
      "outputs": [
        {
          "output_type": "stream",
          "name": "stdout",
          "text": [
            "Model Matrix Ratios: [0.42857143 0.01477833 0.36453202 0.11330049 0.01970443 0.0591133 ]\n",
            "Scaled Values: [13.71428571  0.4729064  11.66502463  3.62561576  0.63054187  1.89162562]\n",
            "Sum of Scaled Values: 31.999999999999996\n"
          ]
        }
      ]
    },
    {
      "cell_type": "code",
      "source": [
        "# Define the Source Matrix and Model Matrix\n",
        "source_value = 12  # Single value from the Source Matrix\n",
        "\n",
        "# Corresponding Model Matrix values\n",
        "matrix = np.array([[12, 1, 10],\n",
        "                   [97, 9, 0],\n",
        "                   [95, 7, 4]])\n",
        "\n",
        "# Step 1: Normalize the Model Matrix\n",
        "model_sum = np.sum(mmatrix)  # Total sum of the Model Matrix\n",
        "normalized_model = mmatrix / model_sum  # Calculate the ratios (weights)\n",
        "\n",
        "# Step 2: Scale the Source Value\n",
        "scaled_values = source_value * normalized_model  # Distribute the source value\n",
        "\n",
        "print(\"Model Matrix Ratios:\", normalized_model)\n",
        "print(\"Scaled Values:\", scaled_values)\n",
        "\n",
        "# Calculate the sum of the scaled values\n",
        "sum_scaled_values = np.sum(scaled_values)\n",
        "\n",
        "print(\"Sum of Scaled Values:\", sum_scaled_values)"
      ],
      "metadata": {
        "colab": {
          "base_uri": "https://localhost:8080/"
        },
        "id": "lHgNb4ZOHnic",
        "outputId": "c2663a78-24ed-494b-9731-4d7da50b23dd"
      },
      "execution_count": 26,
      "outputs": [
        {
          "output_type": "stream",
          "name": "stdout",
          "text": [
            "Model Matrix Ratios: [0.42857143 0.01477833 0.36453202 0.11330049 0.01970443 0.0591133 ]\n",
            "Scaled Values: [5.14285714 0.1773399  4.37438424 1.35960591 0.2364532  0.70935961]\n",
            "Sum of Scaled Values: 12.0\n"
          ]
        }
      ]
    },
    {
      "cell_type": "code",
      "source": [
        "# Define the Source Matrix and Model Matrix\n",
        "source_value = 3  # Single value from the Source Matrix\n",
        "\n",
        "# Corresponding Model Matrix values\n",
        "matrix = np.array([83, 6, 19])\n",
        "\n",
        "# Step 1: Normalize the Model Matrix\n",
        "model_sum = np.sum(mmatrix)  # Total sum of the Model Matrix\n",
        "normalized_model = mmatrix / model_sum  # Calculate the ratios (weights)\n",
        "\n",
        "# Step 2: Scale the Source Value\n",
        "scaled_values = source_value * normalized_model  # Distribute the source value\n",
        "\n",
        "print(\"Model Matrix Ratios:\", normalized_model)\n",
        "print(\"Scaled Values:\", scaled_values)\n",
        "\n",
        "# Calculate the sum of the scaled values\n",
        "sum_scaled_values = np.sum(scaled_values)\n",
        "\n",
        "print(\"Sum of Scaled Values:\", sum_scaled_values)"
      ],
      "metadata": {
        "colab": {
          "base_uri": "https://localhost:8080/"
        },
        "id": "OzQ5EJGMIBll",
        "outputId": "26646f38-b9aa-4c8b-c954-06c4f2df5b72"
      },
      "execution_count": 28,
      "outputs": [
        {
          "output_type": "stream",
          "name": "stdout",
          "text": [
            "Model Matrix Ratios: [0.42857143 0.01477833 0.36453202 0.11330049 0.01970443 0.0591133 ]\n",
            "Scaled Values: [1.28571429 0.04433498 1.09359606 0.33990148 0.0591133  0.1773399 ]\n",
            "Sum of Scaled Values: 3.0\n"
          ]
        }
      ]
    },
    {
      "cell_type": "code",
      "source": [
        "# Define the Source Matrix and Model Matrix\n",
        "source_value = 57  # Single value from the Source Matrix\n",
        "\n",
        "# Corresponding Model Matrix values\n",
        "matrix = np.array([[74, 8, 18],\n",
        "                   [64, 12, 26]])\n",
        "\n",
        "# Step 1: Normalize the Model Matrix\n",
        "model_sum = np.sum(mmatrix)  # Total sum of the Model Matrix\n",
        "normalized_model = mmatrix / model_sum  # Calculate the ratios (weights)\n",
        "\n",
        "# Step 2: Scale the Source Value\n",
        "scaled_values = source_value * normalized_model  # Distribute the source value\n",
        "\n",
        "print(\"Model Matrix Ratios:\", normalized_model)\n",
        "print(\"Scaled Values:\", scaled_values)\n",
        "\n",
        "# Calculate the sum of the scaled values\n",
        "sum_scaled_values = np.sum(scaled_values)\n",
        "\n",
        "print(\"Sum of Scaled Values:\", sum_scaled_values)"
      ],
      "metadata": {
        "colab": {
          "base_uri": "https://localhost:8080/"
        },
        "id": "2sU9wLe_Jluj",
        "outputId": "d19b27b3-5916-4368-b843-8edc91a9fb1d"
      },
      "execution_count": 29,
      "outputs": [
        {
          "output_type": "stream",
          "name": "stdout",
          "text": [
            "Model Matrix Ratios: [0.42857143 0.01477833 0.36453202 0.11330049 0.01970443 0.0591133 ]\n",
            "Scaled Values: [24.42857143  0.84236453 20.77832512  6.45812808  1.12315271  3.36945813]\n",
            "Sum of Scaled Values: 57.00000000000001\n"
          ]
        }
      ]
    },
    {
      "cell_type": "code",
      "source": [
        "# Define the Source Matrix and Model Matrix\n",
        "source_value = 12  # Single value from the Source Matrix\n",
        "\n",
        "# Corresponding Model Matrix values\n",
        "matrix = np.array([[24],\n",
        "                  [17]])\n",
        "\n",
        "# Step 1: Normalize the Model Matrix\n",
        "model_sum = np.sum(mmatrix)  # Total sum of the Model Matrix\n",
        "normalized_model = mmatrix / model_sum  # Calculate the ratios (weights)\n",
        "\n",
        "# Step 2: Scale the Source Value\n",
        "scaled_values = source_value * normalized_model  # Distribute the source value\n",
        "\n",
        "print(\"Model Matrix Ratios:\", normalized_model)\n",
        "print(\"Scaled Values:\", scaled_values)\n",
        "\n",
        "# Calculate the sum of the scaled values\n",
        "sum_scaled_values = np.sum(scaled_values)\n",
        "\n",
        "print(\"Sum of Scaled Values:\", sum_scaled_values)"
      ],
      "metadata": {
        "colab": {
          "base_uri": "https://localhost:8080/"
        },
        "id": "PWOhMzU0KLJM",
        "outputId": "00019388-c891-4140-d92a-f1ea483572e5"
      },
      "execution_count": 31,
      "outputs": [
        {
          "output_type": "stream",
          "name": "stdout",
          "text": [
            "Model Matrix Ratios: [0.42857143 0.01477833 0.36453202 0.11330049 0.01970443 0.0591133 ]\n",
            "Scaled Values: [5.14285714 0.1773399  4.37438424 1.35960591 0.2364532  0.70935961]\n",
            "Sum of Scaled Values: 12.0\n"
          ]
        }
      ]
    },
    {
      "cell_type": "code",
      "source": [
        "# Define the Source Matrix and Model Matrix\n",
        "source_value = 23  # Single value from the Source Matrix\n",
        "\n",
        "# Corresponding Model Matrix values\n",
        "matrix = np.array([[32],\n",
        "                   [21],\n",
        "                   [3]])\n",
        "\n",
        "# Step 1: Normalize the Model Matrix\n",
        "model_sum = np.sum(mmatrix)  # Total sum of the Model Matrix\n",
        "normalized_model = mmatrix / model_sum  # Calculate the ratios (weights)\n",
        "\n",
        "# Step 2: Scale the Source Value\n",
        "scaled_values = source_value * normalized_model  # Distribute the source value\n",
        "\n",
        "print(\"Model Matrix Ratios:\", normalized_model)\n",
        "print(\"Scaled Values:\", scaled_values)\n",
        "\n",
        "# Calculate the sum of the scaled values\n",
        "sum_scaled_values = np.sum(scaled_values)\n",
        "\n",
        "print(\"Sum of Scaled Values:\", sum_scaled_values)"
      ],
      "metadata": {
        "colab": {
          "base_uri": "https://localhost:8080/"
        },
        "id": "bhw6t0q9Kivf",
        "outputId": "9abe6808-3da9-4b55-c486-b29d77252c5d"
      },
      "execution_count": 34,
      "outputs": [
        {
          "output_type": "stream",
          "name": "stdout",
          "text": [
            "Model Matrix Ratios: [0.42857143 0.01477833 0.36453202 0.11330049 0.01970443 0.0591133 ]\n",
            "Scaled Values: [9.85714286 0.33990148 8.38423645 2.60591133 0.45320197 1.35960591]\n",
            "Sum of Scaled Values: 22.999999999999996\n"
          ]
        }
      ]
    },
    {
      "cell_type": "code",
      "source": [
        "# Define the Source Matrix and Model Matrix\n",
        "source_value = 0  # Single value from the Source Matrix\n",
        "\n",
        "# Corresponding Model Matrix values\n",
        "matrix = np.array([8])\n",
        "\n",
        "# Step 1: Normalize the Model Matrix\n",
        "model_sum = np.sum(mmatrix)  # Total sum of the Model Matrix\n",
        "normalized_model = mmatrix / model_sum  # Calculate the ratios (weights)\n",
        "\n",
        "# Step 2: Scale the Source Value\n",
        "scaled_values = source_value * normalized_model  # Distribute the source value\n",
        "\n",
        "print(\"Model Matrix Ratios:\", normalized_model)\n",
        "print(\"Scaled Values:\", scaled_values)\n",
        "\n",
        "# Calculate the sum of the scaled values\n",
        "sum_scaled_values = np.sum(scaled_values)\n",
        "\n",
        "print(\"Sum of Scaled Values:\", sum_scaled_values)"
      ],
      "metadata": {
        "colab": {
          "base_uri": "https://localhost:8080/"
        },
        "id": "C2R7ZPJrLFBH",
        "outputId": "e7bfe2bb-b16f-4943-c9e6-0bb6e77b983e"
      },
      "execution_count": 35,
      "outputs": [
        {
          "output_type": "stream",
          "name": "stdout",
          "text": [
            "Model Matrix Ratios: [0.42857143 0.01477833 0.36453202 0.11330049 0.01970443 0.0591133 ]\n",
            "Scaled Values: [0. 0. 0. 0. 0. 0.]\n",
            "Sum of Scaled Values: 0.0\n"
          ]
        }
      ]
    },
    {
      "cell_type": "code",
      "source": [
        "# Define the Source Matrix and Model Matrix\n",
        "source_value = 34  # Single value from the Source Matrix\n",
        "\n",
        "# Corresponding Model Matrix values\n",
        "matrix = np.array([[4],\n",
        "                  [1]])\n",
        "\n",
        "# Step 1: Normalize the Model Matrix\n",
        "model_sum = np.sum(mmatrix)  # Total sum of the Model Matrix\n",
        "normalized_model = mmatrix / model_sum  # Calculate the ratios (weights)\n",
        "\n",
        "# Step 2: Scale the Source Value\n",
        "scaled_values = source_value * normalized_model  # Distribute the source value\n",
        "\n",
        "print(\"Model Matrix Ratios:\", normalized_model)\n",
        "print(\"Scaled Values:\", scaled_values)\n",
        "\n",
        "# Calculate the sum of the scaled values\n",
        "sum_scaled_values = np.sum(scaled_values)\n",
        "\n",
        "print(\"Sum of Scaled Values:\", sum_scaled_values)"
      ],
      "metadata": {
        "colab": {
          "base_uri": "https://localhost:8080/"
        },
        "id": "IXuiYfHmLM1B",
        "outputId": "fcfb78ba-0e22-4287-a41c-94d3546c9c03"
      },
      "execution_count": 36,
      "outputs": [
        {
          "output_type": "stream",
          "name": "stdout",
          "text": [
            "Model Matrix Ratios: [0.42857143 0.01477833 0.36453202 0.11330049 0.01970443 0.0591133 ]\n",
            "Scaled Values: [14.57142857  0.50246305 12.39408867  3.85221675  0.66995074  2.00985222]\n",
            "Sum of Scaled Values: 34.0\n"
          ]
        }
      ]
    },
    {
      "cell_type": "markdown",
      "source": [
        "#we can print whole matrix in one step:"
      ],
      "metadata": {
        "id": "i1h0pdBkODVV"
      }
    },
    {
      "cell_type": "code",
      "source": [
        "\n",
        "def scale_matrix(source_value, model_matrix):\n",
        "    \"\"\"Scales a source value based on a model matrix.\n",
        "\n",
        "    Args:\n",
        "      source_value: The value to be scaled.\n",
        "      model_matrix: A NumPy array representing the model matrix.\n",
        "\n",
        "    Returns:\n",
        "      A NumPy array of scaled values.\n",
        "    \"\"\"\n",
        "    model_sum = np.sum(model_matrix)\n",
        "    normalized_model = model_matrix / model_sum\n",
        "    scaled_values = source_value * normalized_model\n",
        "    return scaled_values\n",
        "\n",
        "# Example usage with different matrices\n",
        "source_values = [5, 2, 45, 87, 32, 12, 3, 57, 12, 23, 0, 34, 54, 32, 34, 78]\n",
        "model_matrices = [\n",
        "    np.array([76, 3, 8, 90]),\n",
        "    np.array([4, 21, 32, 1, 45, 9]),\n",
        "    np.array([1, 3]),\n",
        "    np.array([2, 4, 0, 5]),\n",
        "    np.array([87, 3, 74, 23, 4, 12]),\n",
        "    np.array([12, 1, 10, 97, 9, 0, 95, 7, 4]),\n",
        "    np.array([83, 6, 19]),\n",
        "    np.array([74, 8, 18, 64, 12, 26]),\n",
        "    np.array([24, 17]),\n",
        "    np.array([32, 21, 3]),\n",
        "    np.array([8]),\n",
        "    np.array([4, 1]),\n",
        "    np.array([12, 32, 9, 1]),\n",
        "    np.array([1, 9, 7, 8, 6, 7]),\n",
        "    np.array([6, 32]),\n",
        "    np.array([8, 34, 78, 34]),\n",
        "]\n",
        "\n",
        "\n",
        "for i in range(len(source_values)):\n",
        "    scaled_values = scale_matrix(source_values[i], model_matrices[i])\n",
        "    print(f\"Source Value: {source_values[i]}\")\n",
        "    print(\"Scaled Values:\", scaled_values)\n",
        "    print(\"Sum of Scaled Values:\", np.sum(scaled_values))\n",
        "    print(\"-\" * 30)"
      ],
      "metadata": {
        "colab": {
          "base_uri": "https://localhost:8080/"
        },
        "id": "lRFwnhwMLZU0",
        "outputId": "acdfb279-0849-4590-de4e-09b477314545"
      },
      "execution_count": 44,
      "outputs": [
        {
          "output_type": "stream",
          "name": "stdout",
          "text": [
            "Source Value: 5\n",
            "Scaled Values: [2.14689266 0.08474576 0.2259887  2.54237288]\n",
            "Sum of Scaled Values: 5.0\n",
            "------------------------------\n",
            "Source Value: 2\n",
            "Scaled Values: [0.07142857 0.375      0.57142857 0.01785714 0.80357143 0.16071429]\n",
            "Sum of Scaled Values: 2.0\n",
            "------------------------------\n",
            "Source Value: 45\n",
            "Scaled Values: [11.25 33.75]\n",
            "Sum of Scaled Values: 45.0\n",
            "------------------------------\n",
            "Source Value: 87\n",
            "Scaled Values: [15.81818182 31.63636364  0.         39.54545455]\n",
            "Sum of Scaled Values: 87.0\n",
            "------------------------------\n",
            "Source Value: 32\n",
            "Scaled Values: [13.71428571  0.4729064  11.66502463  3.62561576  0.63054187  1.89162562]\n",
            "Sum of Scaled Values: 31.999999999999996\n",
            "------------------------------\n",
            "Source Value: 12\n",
            "Scaled Values: [0.61276596 0.05106383 0.5106383  4.95319149 0.45957447 0.\n",
            " 4.85106383 0.35744681 0.20425532]\n",
            "Sum of Scaled Values: 11.999999999999998\n",
            "------------------------------\n",
            "Source Value: 3\n",
            "Scaled Values: [2.30555556 0.16666667 0.52777778]\n",
            "Sum of Scaled Values: 2.9999999999999996\n",
            "------------------------------\n",
            "Source Value: 57\n",
            "Scaled Values: [20.88118812  2.25742574  5.07920792 18.05940594  3.38613861  7.33663366]\n",
            "Sum of Scaled Values: 57.0\n",
            "------------------------------\n",
            "Source Value: 12\n",
            "Scaled Values: [7.02439024 4.97560976]\n",
            "Sum of Scaled Values: 12.0\n",
            "------------------------------\n",
            "Source Value: 23\n",
            "Scaled Values: [13.14285714  8.625       1.23214286]\n",
            "Sum of Scaled Values: 23.0\n",
            "------------------------------\n",
            "Source Value: 0\n",
            "Scaled Values: [0.]\n",
            "Sum of Scaled Values: 0.0\n",
            "------------------------------\n",
            "Source Value: 34\n",
            "Scaled Values: [27.2  6.8]\n",
            "Sum of Scaled Values: 34.0\n",
            "------------------------------\n",
            "Source Value: 54\n",
            "Scaled Values: [12. 32.  9.  1.]\n",
            "Sum of Scaled Values: 54.0\n",
            "------------------------------\n",
            "Source Value: 32\n",
            "Scaled Values: [0.84210526 7.57894737 5.89473684 6.73684211 5.05263158 5.89473684]\n",
            "Sum of Scaled Values: 31.999999999999996\n",
            "------------------------------\n",
            "Source Value: 34\n",
            "Scaled Values: [ 5.36842105 28.63157895]\n",
            "Sum of Scaled Values: 34.0\n",
            "------------------------------\n",
            "Source Value: 78\n",
            "Scaled Values: [ 4.05194805 17.22077922 39.50649351 17.22077922]\n",
            "Sum of Scaled Values: 78.0\n",
            "------------------------------\n"
          ]
        }
      ]
    }
  ]
}