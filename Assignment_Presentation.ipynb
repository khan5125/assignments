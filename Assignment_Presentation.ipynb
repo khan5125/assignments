{
  "nbformat": 4,
  "nbformat_minor": 0,
  "metadata": {
    "colab": {
      "provenance": [],
      "collapsed_sections": [
        "GdtWHzGZWfbY",
        "tPmLIilVWstB",
        "BHT9JwDvW0Cs",
        "GGwgnPrQXAY7",
        "nm8IQ7lWXIuG",
        "R6zL5gCzXe74"
      ],
      "authorship_tag": "ABX9TyM59iXkfdhdyt/Q2v+pL90K",
      "include_colab_link": true
    },
    "kernelspec": {
      "name": "python3",
      "display_name": "Python 3"
    },
    "language_info": {
      "name": "python"
    }
  },
  "cells": [
    {
      "cell_type": "markdown",
      "metadata": {
        "id": "view-in-github",
        "colab_type": "text"
      },
      "source": [
        "<a href=\"https://colab.research.google.com/github/khan5125/assignments/blob/main/Assignment_Presentation.ipynb\" target=\"_parent\"><img src=\"https://colab.research.google.com/assets/colab-badge.svg\" alt=\"Open In Colab\"/></a>"
      ]
    },
    {
      "cell_type": "markdown",
      "source": [
        "# Assignment\n",
        "Take Source matrix and create a new matrix with the size of Model matrix, in which each number of the Source matrix will be split into numbers on the corresponding positions and the ratio of the numbers will be same as in the Model matrix. The sum of the cells on the corresponding positions should be equal to the original cell in the Source matrix.\n",
        "\n",
        "For example, a cell AA in the Source matrix (number 5) will be split into 4 values AaAa, AbAa, AaAb and AbAb. The sum of those values will be AA (5) and the ratio between the numbers will according to the ratios in the Model matrix on positions AaAa, AbAa, AaAb and AbAb, e.g. on position AaAb = 5x90/(76 + 3 + 8 + 90).\n",
        "\n",
        "Use Python: Perform some tasks;\n",
        "\n",
        "Read the data in,\n",
        "Do the transformation and\n",
        "Save back to Excel.\n",
        "Explain the code in the comments.\n",
        "Use an approach which will be suitable for larger matrices.\n",
        "You may create some type of a conversion kye in Excel and use that in your preferred environment.\n",
        "Think about visualization of the results, provide some examples of your suggestions."
      ],
      "metadata": {
        "id": "WLjusy7sYzZP"
      }
    },
    {
      "cell_type": "code",
      "execution_count": null,
      "metadata": {
        "id": "q-jXvA5zWVjV"
      },
      "outputs": [],
      "source": [
        "# Import libraries\n",
        "import numpy as np\n",
        "import pandas as pd\n",
        "import seaborn as sns\n",
        "import matplotlib.pyplot as plt"
      ]
    },
    {
      "cell_type": "markdown",
      "source": [
        "# Upload Excel File"
      ],
      "metadata": {
        "id": "GdtWHzGZWfbY"
      }
    },
    {
      "cell_type": "code",
      "source": [
        "# Upload file\n",
        "from google.colab import files\n",
        "uploaded = files.upload()"
      ],
      "metadata": {
        "id": "r7HDkVZTWker"
      },
      "execution_count": null,
      "outputs": []
    },
    {
      "cell_type": "markdown",
      "source": [],
      "metadata": {
        "id": "HIMFLQPUWnr3"
      }
    },
    {
      "cell_type": "markdown",
      "source": [
        "# Read Source and Model matrices"
      ],
      "metadata": {
        "id": "tPmLIilVWstB"
      }
    },
    {
      "cell_type": "code",
      "source": [
        "# Read both sheets into separate dataframes\n",
        "source_matrix = pd.read_excel('Assignment.xlsx', sheet_name = 'smatrix')\n",
        "model_matrix = pd.read_excel('Assignment.xlsx', sheet_name = 'mmatrix')\n",
        "\n",
        "print(\"smatrix:\")\n",
        "print(source_matrix.head(10))\n",
        "print(\"\\mmatrix:\")\n",
        "print(model_matrix.head(10))"
      ],
      "metadata": {
        "id": "KL8mPYt5Wxdg"
      },
      "execution_count": null,
      "outputs": []
    },
    {
      "cell_type": "markdown",
      "source": [
        "# To Create new matrix\n",
        "Just Follow the given Example (for all values of SOURCE MATRIX and their corresponding values from MODEL MATRIX)\n",
        "\n",
        "source value = 5\n",
        "\n",
        "sum of model matrix = 76+3+8+90 = 177\n",
        "\n",
        "Normalize the Model Matrix:\n",
        "\n",
        "Normalize model ratios = (76/177), (3/177), (8/177), (90/177)\n",
        "\n",
        "Transformation:\n",
        "\n",
        "scaled values = 5*(0.42937853), 5*(0.01694915), 5*(0.04519774), 5*(0.50847458)\n"
      ],
      "metadata": {
        "id": "BHT9JwDvW0Cs"
      }
    },
    {
      "cell_type": "code",
      "source": [
        "# Define a function\n",
        "\n",
        "def transform_matrix(source_value, model_matrix):\n",
        "    model_sum = np.sum(model_matrix)\n",
        "    # Normalize the model matrix\n",
        "    # Create a normalized model matrix where each value is divided by the sum of all values in the matrix\n",
        "    normalized_model_ratio = model_matrix / model_sum\n",
        "    # The transformation is done by multiplying the Source matrix values with the normalized ratios.\n",
        "    scaled_value = source_value * normalized_model_ratio\n",
        "    return scaled_value # Return the calculated scaled_value\n",
        "\n",
        "source_values = [5, 2, 45, 87, 32, 12, 3, 57, 12, 23, 0, 34, 54, 32, 34, 78]\n",
        "model_matrices = [\n",
        "    np.array([76, 3, 8, 90]),\n",
        "    np.array([4, 21, 32, 1, 45, 9]),\n",
        "    np.array([1, 3]),\n",
        "    np.array([2, 4, 0, 5]),\n",
        "    np.array([87, 3, 74, 23, 4, 12]),\n",
        "    np.array([12, 1, 10, 97, 9, 0, 95, 7, 4]),\n",
        "    np.array([83, 6, 19]),\n",
        "    np.array([74, 8, 18, 64, 12, 26]),\n",
        "    np.array([24, 17]),\n",
        "    np.array([32, 21, 3]),\n",
        "    np.array([8]),\n",
        "    np.array([4, 1]),\n",
        "    np.array([12, 32, 9, 1]),\n",
        "    np.array([1, 9, 7, 8, 6, 7]),\n",
        "    np.array([6, 32]),\n",
        "    np.array([8, 34, 78, 34]),\n",
        "]\n",
        "\n",
        "transformed_matrices = []\n",
        "for i in range(len(source_values)):\n",
        "    scaled_value = transform_matrix(source_values[i], model_matrices[i]) # Assign the returned values to transform_matrix\n",
        "    transformed_matrices.append(scaled_value)\n",
        "    print(f\"Source Value: {source_values[i]}\")\n",
        "    print(\"transformed Matrices:\", scaled_value)\n",
        "    print(\"Sum of Scaled Values:\", np.sum(scaled_value))\n",
        "    print(\"-\" * 30)\n",
        "\n",
        "#Efficiently create a DataFrame without padding\n",
        "# Use a list comprehension to create the data for the DataFrame directly.\n",
        "# This avoids intermediate lists and arrays that would be created by padding.\n",
        "\n",
        "data = [list(matrix) for matrix in transformed_matrices]\n",
        "\n",
        "# Create a DataFrame.\n",
        "result_df = pd.DataFrame(data)\n",
        "\n",
        "result_df\n"
      ],
      "metadata": {
        "id": "7LRtUnylW_D8"
      },
      "execution_count": null,
      "outputs": []
    },
    {
      "cell_type": "markdown",
      "source": [
        "# Visualize through **Heatmap**"
      ],
      "metadata": {
        "id": "GGwgnPrQXAY7"
      }
    },
    {
      "cell_type": "code",
      "source": [
        "# Heatmap of Transformed Matrices\n",
        "\n",
        "plt.figure(figsize=(10, 6))\n",
        "sns.heatmap(result_df, annot=True, cmap=\"viridis\", fmt=\".2f\") # we can use any color for cmap and number of fmt digits after .\n",
        "plt.title(\"Heatmap of Transformed Matrices\")\n",
        "plt.xlabel(\"Columns\")\n",
        "plt.ylabel(\"Source Values\")\n",
        "plt.show()"
      ],
      "metadata": {
        "id": "tTQpUnskXE5i"
      },
      "execution_count": null,
      "outputs": []
    },
    {
      "cell_type": "markdown",
      "source": [
        "# To save New Matrix into Excel file"
      ],
      "metadata": {
        "id": "nm8IQ7lWXIuG"
      }
    },
    {
      "cell_type": "code",
      "source": [
        "# Save into excel and download the file\n",
        "\n",
        "# Export the DataFrame to an Excel file\n",
        "result_df.to_excel('transformed_matrices.xlsx', index=False)\n",
        "\n",
        "# Download the file\n",
        "files.download('transformed_matrices.xlsx')\n",
        "\n"
      ],
      "metadata": {
        "id": "7TKNOxDLXZHX"
      },
      "execution_count": null,
      "outputs": []
    },
    {
      "cell_type": "markdown",
      "source": [
        "# Reult Matrix with source and model matrix"
      ],
      "metadata": {
        "id": "R6zL5gCzXe74"
      }
    },
    {
      "cell_type": "code",
      "source": [
        "# upload the new file having source, model and new matrix\n",
        "from google.colab import files\n",
        "uploaded = files.upload()"
      ],
      "metadata": {
        "id": "OPQ7ToJgXmkF"
      },
      "execution_count": null,
      "outputs": []
    },
    {
      "cell_type": "code",
      "source": [
        "# Read all sheets into separate dataframes\n",
        "source_matrix = pd.read_excel('Assignment1.xlsx', sheet_name = 'smatrix')\n",
        "model_matrix = pd.read_excel('Assignment1.xlsx', sheet_name = 'mmatrix')\n",
        "result_matrix = pd.read_excel('Assignment1.xlsx', sheet_name = 'Resultmatrix')\n",
        "\n",
        "print(\"smatrix:\")\n",
        "print(source_matrix.head(10))\n",
        "print(\"\\mmatrix:\")\n",
        "print(model_matrix.head(10))\n",
        "print(\"\\Resultmatrix:\")\n",
        "print(result_matrix.head(10))\n"
      ],
      "metadata": {
        "id": "biw_eNBtXnxu"
      },
      "execution_count": null,
      "outputs": []
    }
  ]
}